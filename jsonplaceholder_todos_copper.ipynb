{
 "cells": [
  {
   "cell_type": "code",
   "execution_count": 0,
   "metadata": {
    "application/vnd.databricks.v1+cell": {
     "cellMetadata": {
      "byteLimit": 2048000,
      "rowLimit": 10000
     },
     "inputWidgets": {},
     "nuid": "1459b040-0b03-4a75-a3a9-beab01a465e1",
     "showTitle": false,
     "tableResultSettingsMap": {},
     "title": ""
    }
   },
   "outputs": [],
   "source": [
    "import requests\n",
    "import json\n",
    "import pandas as pd \n",
    "\n",
    "\n",
    "endpoint_title = \"todos\"\n",
    "schema_nome = \"jsonplaceholder_copper\"\n",
    "tabela_nome = f\"{endpoint_title}_copper\"\n",
    "endereco_tabela = f\"{schema_nome}.{tabela_nome}\"\n",
    "\n",
    "url = f'https://jsonplaceholder.typicode.com/{endpoint_title}'\n",
    "\n",
    "try:\n",
    "    resposta = requests.get(url)\n",
    "    resposta.raise_for_status()\n",
    "    dados = resposta.json()\n",
    "    \n",
    "    df_pandas = pd.DataFrame(dados)\n",
    "    display(df_pandas)\n",
    "except requests.exceptions.RequestException as e:\n",
    "    print(f\"Erro ao fazer a requisição:{e}\")\n",
    "\n",
    "\n",
    "\n"
   ]
  },
  {
   "cell_type": "code",
   "execution_count": 0,
   "metadata": {
    "application/vnd.databricks.v1+cell": {
     "cellMetadata": {
      "byteLimit": 2048000,
      "rowLimit": 10000
     },
     "inputWidgets": {},
     "nuid": "c2275c97-4a4d-4391-903d-f13a7ab7bd14",
     "showTitle": false,
     "tableResultSettingsMap": {},
     "title": ""
    }
   },
   "outputs": [],
   "source": [
    "from pyspark.sql import SparkSession\n",
    "\n",
    "spark = SparkSession.builder.getOrCreate()\n",
    "\n",
    "df_spark = spark.createDataFrame(df_pandas)\n",
    "\n",
    "df_spark.printSchema()\n",
    "\n",
    "df_spark.write.mode(\"overwrite\").saveAsTable(endereco_tabela)\n",
    "\n",
    "df_verificacao = spark.read.table(endereco_tabela)\n",
    "\n",
    "df_verificacao.show()\n",
    "\n",
    "spark.sql(f\"GRANT ALL PRIVILEGES ON TABLE {endereco_tabela} TO `account users`\")\n",
    "\n"
   ]
  },
  {
   "cell_type": "code",
   "execution_count": 0,
   "metadata": {
    "application/vnd.databricks.v1+cell": {
     "cellMetadata": {
      "byteLimit": 2048000,
      "rowLimit": 10000
     },
     "inputWidgets": {},
     "nuid": "934105f1-e450-4646-8f01-019ec45f5290",
     "showTitle": false,
     "tableResultSettingsMap": {},
     "title": ""
    }
   },
   "outputs": [],
   "source": []
  }
 ],
 "metadata": {
  "application/vnd.databricks.v1+notebook": {
   "computePreferences": {
    "hardware": {
     "accelerator": null,
     "gpuPoolId": null,
     "memory": null
    }
   },
   "dashboards": [],
   "environmentMetadata": {
    "base_environment": "",
    "environment_version": "2"
   },
   "inputWidgetPreferences": null,
   "language": "python",
   "notebookMetadata": {
    "pythonIndentUnit": 4
   },
   "notebookName": "jsonplaceholder_todos_copper",
   "widgets": {}
  },
  "language_info": {
   "name": "python"
  }
 },
 "nbformat": 4,
 "nbformat_minor": 0
}
