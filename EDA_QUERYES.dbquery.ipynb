{
 "cells": [
  {
   "cell_type": "code",
   "execution_count": 0,
   "metadata": {
    "application/vnd.databricks.v1+cell": {
     "cellMetadata": {},
     "inputWidgets": {},
     "nuid": "35a19d51-4434-4f82-b578-c6560bc56529",
     "showTitle": false,
     "tableResultSettingsMap": {},
     "title": ""
    }
   },
   "outputs": [],
   "source": [
    "SELECT \n",
    "    posts_copper.id as post_id,\n",
    "    poster.name as poster_id,\n",
    "    poster.name as poster_name,\n",
    "    poster.username as poster_username,\n",
    "    poster.email as poster_email,\n",
    "    poster.address as poster_address,\n",
    "    poster.phone as poster_phone,\n",
    "    poster.company as poster_company,\n",
    "    poster.website as poster_website,\n",
    "    posts_copper.title as post_title,\n",
    "    posts_copper.body as post,\n",
    "    comments_copper.id as comment_id,\n",
    "    comments_copper.name as commenter_name,\n",
    "    comments_copper.body as comment,\n",
    "    comments_copper.email as commenter_email\n",
    "\n",
    " FROM posts_copper \n",
    " JOIN comments_copper on posts_copper.id = comments_copper.postId\n",
    " JOIN  users_copper as poster on posts_copper.userId = poster.id\n",
    " ;\n",
    "\n",
    "SELECT * FROM posts_copper;\n",
    "\n",
    "SELECT * FROM comments_copper;\n",
    "\n",
    "SELECT * FROM albums_copper;\n",
    "\n",
    "SELECT * FROM users_copper;\n",
    "\n",
    "SELECT * FROM photos_copper;"
   ]
  }
 ],
 "metadata": {
  "application/vnd.databricks.v1+notebook": {
   "computePreferences": null,
   "dashboards": [],
   "environmentMetadata": null,
   "inputWidgetPreferences": null,
   "language": "sql",
   "notebookMetadata": {
    "sqlQueryOptions": {
     "applyAutoLimit": true,
     "catalog": "workspace",
     "schema": "jsonplaceholder_copper"
    }
   },
   "notebookName": "EDA_QUERYES.dbquery.ipynb",
   "widgets": {}
  },
  "language_info": {
   "name": "sql"
  }
 },
 "nbformat": 4,
 "nbformat_minor": 0
}
